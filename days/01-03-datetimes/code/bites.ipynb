{
 "cells": [
  {
   "cell_type": "markdown",
   "id": "f18aa4c5",
   "metadata": {},
   "source": [
    "### First"
   ]
  },
  {
   "cell_type": "code",
   "execution_count": null,
   "id": "461ee5b5",
   "metadata": {},
   "outputs": [],
   "source": [
    "from datetime import datetime\n",
    "import os\n",
    "import urllib.request\n",
    "\n",
    "SHUTDOWN_EVENT = 'Shutdown initiated'\n",
    "\n",
    "# prep: read in the logfile\n",
    "tmp = os.getenv(\"TMP\", \"/tmp\")\n",
    "logfile = os.path.join(tmp, 'log')\n",
    "urllib.request.urlretrieve(\n",
    "    'https://bites-data.s3.us-east-2.amazonaws.com/messages.log',\n",
    "    logfile\n",
    ")\n",
    "\n",
    "with open(logfile) as f:\n",
    "    loglines = f.readlines()"
   ]
  },
  {
   "cell_type": "code",
   "execution_count": null,
   "id": "d0bc03c7",
   "metadata": {},
   "outputs": [],
   "source": [
    "def convert_to_datetime(line):\n",
    "    \"\"\"TODO 1:\n",
    "       Extract timestamp from logline and convert it to a datetime object.\n",
    "       For example calling the function with:\n",
    "       INFO 2014-07-03T23:27:51 supybot Shutdown complete.\n",
    "       returns:\n",
    "       datetime(2014, 7, 3, 23, 27, 51)\n",
    "    \"\"\"\n",
    "    datetime_str = line.split(\" \")[1]\n",
    "    date_str, time_str = datetime_str.split('T')\n",
    "    \n",
    "    year, month, day = date_str.split('-')\n",
    "    year, month, day = int(year), int(month), int(day)\n",
    "    \n",
    "    hours, mins, secs = time_str.split(':')\n",
    "    hours, mins, secs = int(hours), int(mins), int(secs)\n",
    "    \n",
    "    return datetime(year, month, day, hours, mins, secs)\n",
    "\n",
    "\n",
    "def time_between_shutdowns(loglines):\n",
    "    \"\"\"TODO 2:\n",
    "       Extract shutdown events (\"Shutdown initiated\") from loglines and\n",
    "       calculate the timedelta between the first and last one.\n",
    "       Return this datetime.timedelta object.\n",
    "    \"\"\"\n",
    "    shutdown_lines = [line for line in loglines if 'Shutdown' in line]\n",
    "    first_dt = convert_to_datetime(shutdown_lines[0])\n",
    "    last_dt = convert_to_datetime(shutdown_lines[-1])\n",
    "    return last_dt - first_dt"
   ]
  },
  {
   "cell_type": "code",
   "execution_count": null,
   "id": "0c32a9b7",
   "metadata": {},
   "outputs": [],
   "source": [
    "from datetime import datetime, timedelta\n",
    "\n",
    "def test_convert_to_datetime():\n",
    "    line1 = 'ERROR 2014-07-03T23:24:31 supybot Invalid user dictionary file'\n",
    "    line2 = 'INFO 2015-10-03T10:12:51 supybot Shutdown initiated.'\n",
    "    line3 = 'INFO 2016-09-03T02:11:22 supybot Shutdown complete.'\n",
    "    assert convert_to_datetime(line1) == datetime(2014, 7, 3, 23, 24, 31)\n",
    "    assert convert_to_datetime(line2) == datetime(2015, 10, 3, 10, 12, 51)\n",
    "    assert convert_to_datetime(line3) == datetime(2016, 9, 3, 2, 11, 22)\n",
    "\n",
    "\n",
    "def test_time_between_events():\n",
    "    diff = time_between_shutdowns(loglines)\n",
    "    assert type(diff) == timedelta\n",
    "    assert str(diff) == '0:03:31'"
   ]
  },
  {
   "cell_type": "code",
   "execution_count": null,
   "id": "ae623c96",
   "metadata": {},
   "outputs": [],
   "source": [
    "test_convert_to_datetime()"
   ]
  },
  {
   "cell_type": "code",
   "execution_count": null,
   "id": "cdb31174",
   "metadata": {},
   "outputs": [],
   "source": [
    "test_time_between_events()"
   ]
  },
  {
   "cell_type": "markdown",
   "id": "6ba67da6",
   "metadata": {},
   "source": [
    "### Second"
   ]
  },
  {
   "cell_type": "code",
   "execution_count": null,
   "id": "60d0ec22",
   "metadata": {},
   "outputs": [],
   "source": [
    "from datetime import date, timedelta\n",
    "\n",
    "start_100days = date(2017, 3, 30)\n",
    "pybites_founded = date(2016, 12, 19)\n",
    "pycon_date = date(2018, 5, 8)\n",
    "\n",
    "\n",
    "def get_hundred_days_end_date():\n",
    "    \"\"\"Return a string of yyyy-mm-dd\"\"\"\n",
    "    op = start_100days + timedelta(days=100)\n",
    "    return f\"{op.year}-{op.month:02d}-{op.day:02d}\"\n",
    "\n",
    "\n",
    "def get_days_between_pb_start_first_joint_pycon():\n",
    "    \"\"\"Return the int number of days\"\"\"\n",
    "    return (pycon_date - pybites_founded).days"
   ]
  },
  {
   "cell_type": "code",
   "execution_count": null,
   "id": "7a87330d",
   "metadata": {},
   "outputs": [],
   "source": [
    "get_hundred_days_end_date()"
   ]
  },
  {
   "cell_type": "code",
   "execution_count": null,
   "id": "edc1f5ba",
   "metadata": {},
   "outputs": [],
   "source": [
    "get_days_between_pb_start_first_joint_pycon()"
   ]
  },
  {
   "cell_type": "markdown",
   "id": "57f0e1c9",
   "metadata": {},
   "source": [
    "### Third"
   ]
  },
  {
   "cell_type": "code",
   "execution_count": null,
   "id": "c34b3de5",
   "metadata": {},
   "outputs": [],
   "source": [
    "from datetime import datetime\n",
    "\n",
    "THIS_YEAR = 2018\n",
    "\n",
    "def years_ago(date):\n",
    "    date_obj = datetime.strptime(date, '%d %b, %Y')\n",
    "    year = date_obj.year\n",
    "    diff = THIS_YEAR - year\n",
    "    \n",
    "    return diff\n",
    "\n",
    "from datetime import datetime\n",
    "\n",
    "def convert_eu_to_us_date(date):\n",
    "    eu_date_obj = datetime.strptime(date, '%d/%m/%Y')\n",
    "    us_date_str = eu_date_obj.strftime('%m/%d/%Y')\n",
    "    return us_date_str"
   ]
  },
  {
   "cell_type": "code",
   "execution_count": null,
   "id": "d9fa2fe0",
   "metadata": {},
   "outputs": [],
   "source": [
    "result = years_ago(\"8 Aug, 2015\")\n",
    "result"
   ]
  },
  {
   "cell_type": "code",
   "execution_count": null,
   "id": "3c14faba",
   "metadata": {},
   "outputs": [],
   "source": [
    "us_date = convert_eu_to_us_date(\"11/03/2002\")\n",
    "us_date"
   ]
  },
  {
   "cell_type": "code",
   "execution_count": null,
   "id": "30a32b4d",
   "metadata": {},
   "outputs": [],
   "source": []
  }
 ],
 "metadata": {
  "kernelspec": {
   "display_name": "Python 3 (ipykernel)",
   "language": "python",
   "name": "python3"
  },
  "language_info": {
   "codemirror_mode": {
    "name": "ipython",
    "version": 3
   },
   "file_extension": ".py",
   "mimetype": "text/x-python",
   "name": "python",
   "nbconvert_exporter": "python",
   "pygments_lexer": "ipython3",
   "version": "3.8.13"
  }
 },
 "nbformat": 4,
 "nbformat_minor": 5
}
